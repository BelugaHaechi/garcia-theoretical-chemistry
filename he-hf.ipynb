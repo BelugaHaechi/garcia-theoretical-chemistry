{
 "cells": [
  {
   "cell_type": "markdown",
   "id": "ced6bedd",
   "metadata": {},
   "source": [
    "# Hartree-Fock for helium using Legendre polynomials in Python\n",
    "\n",
    "* [Hartree-Fock](https://en.wikipedia.org/wiki/Hartree%E2%80%93Fock_method)\n",
    "* [Fermi-Dirac statistics](https://en.wikipedia.org/wiki/Fermi%E2%80%93Dirac_statistics)\n",
    "\n",
    "Hartree-Fock (HF) is a foundational approximation to the many-body wave function in quantum chemistry that starts with three key ideas\n",
    "* the wave function for a many-body system comprising non-interacting particles is separable (i.e., is a product of 1-particle wave functions, also called orbitals),\n",
    "* the wave function for a many-electron system must be antisymmetric with respect to exchange of the coordinates (both space and spin) of any pair of electrons since they are fermions, and\n",
    "* the variational principle—minimizing the energy by variation of the orbitals.\n",
    "\n",
    "From HF emerges a clear an easily interpreted understanding of\n",
    "* the periodic table of the elements (for heavy elements one also needs to include the effects of special relativity), and\n",
    "* the chemical bond.\n",
    "\n",
    "Simply stated, the HF wave function is the lowest energy antisymmetric product of N orbitals.  It is a mean-field model—i.e., each electron experiences only the average potential due to the other electrons.\n",
    "\n",
    "I won't derive the general HF energy equation since it requires introducing spin and at this stage is not very instructive.  Let's immediately jump to the equations for the helium atom (2 electrons and point nucleus of charge +2).  Let the orbital (function in 3D space) again be denoted as $\\psi(r)$.  The energy functional (i.e., a function of a function) is\n",
    "$$E[\\psi] = 2 \\left \\langle \\psi \\middle| \\hat{h} \\middle| \\psi \\right \\rangle + \\left(\\psi \\psi | \\psi \\psi \\right)$$\n",
    "where, $\\hat{h}$ is the one-electron Hamiltonion operator that we've seen before\n",
    "$$\\hat{h} = -\\frac{1}{2} \\nabla^2 - \\frac{2}{r}$$\n",
    "that includes the kinetic energy and nuclear attraction terms.  The new piece is the electron repulsion integral\n",
    "$$\\left(\\psi \\psi | \\psi \\psi \\right) = \\int \\int dr_1^3 dr_2^3 \\psi(r_1)^2 \\frac{1}{|r_1 - r_2|} \\psi(r_2)^2 $$\n",
    "which is the electrostatic repulsion energy between the two electrons.  Note this is a two-electron integral that therefore involves integrating over 6 dimensions!  In general molecules, calculating these integrals is a major computational task. However, the spherical symmetry of atoms reduces this to just 2 radial dimensions.  \n",
    "\n",
    "\"Differentiating\" the energy with respect to the wave function yields the gradient\n",
    "$$\\frac{\\delta E}{\\delta \\psi} = 4 \\left(\\hat{h} \\psi(r) + u(r) \\psi(r) \\right),$$\n",
    "where \n",
    "$$ u(r) = \\int ds^3 \\frac{\\rho(s)}{|r-s|}$$\n",
    "which we recognize as the electrostatic potential due the charge density $\\rho(s) = \\psi(s)^2$. With this definition of $u(r)$, the two-electron integral in the energy becomes\n",
    "$$\\left(\\psi \\psi | \\psi \\psi \\right) = \\int dr^3 u(r) \\rho(r).$$\n",
    "\n",
    "Let's now use the spherical symmetry of the ground state helium atom to simplify things.  Above $r$, $s$, etc., were 3D vectors --- now they will just be scalar values representing the distance from the origin.\n",
    "$$\\hat{h}(r) \\psi(r) = -\\frac{1}{2} \\frac{1}{r} \\! \\frac{d^2}{dr^2} r \\psi(r) - \\frac{2}{r} \\psi(r)$$\n",
    "and\n",
    "$$u(r) = 4 \\pi \\left( \\frac{1}{r} \\int_0^r ds s^2 \\rho(s)  +  \\int_r^\\infty ds s \\rho(s) \\right) $$\n",
    "\n",
    "To test your calculation of $u(r)$ you can use the potential due to a Gaussian with exponent $a$ \n",
    "$$g(r) = e^{-a r^2}$$\n",
    "(test with $a=1$ for simplicity) for which the potential is \n",
    "$$\\left( \\frac{\\pi}{a} \\right)^{3/2} \\frac{\\mathrm{erf}\\left(\\sqrt{a} r \\right)}{r}$$\n",
    "\n",
    "We will again define $\\phi(r) = r \\psi(r)$ and hence the gradient becomes\n",
    "$$\\frac{\\delta E}{\\delta \\phi} = 4 \\left(-\\frac{1}{2} \\frac{d^2 \\phi}{dr^2} - \\frac{2}{r} \\phi(r) + u(r) \\phi(r) \\right).$$\n",
    "\n",
    "Compared to the hydrogen atom, the new pieces are\n",
    "* $u(r)$ in the gradient\n",
    "* $\\left(\\psi \\psi | \\psi \\psi \\right)$ in the energy\n",
    "\n",
    "We are solving in a finite box, replacing $\\infty$ with $L$ and we are usually integrating over the range $[0,L]$ that we map to $[-1,1]$ by a change of variables so that we can use the standard Gauss-Legendre quadrature.  To calculate $u(r)$, we just need to modify the range of integration—the first integral is over $[0,r]$ and the second is over $[r,L]$.  *But*, note that $r$ is now a variable so for each value of $r$ at which you want to compute the potential you need to compute the integrals that define $u$.  So just make a loop over the values of $r$ that you need, and insert the integral code inside that loop (being sure to do the change of variables to respect the required ranges of integration).  \n",
    "\n",
    "Very likely, you will be wanting to compute the electrostatic potential matrix over the basis functions ($b_i(r)$).  *Note*, that since density depends on the orbital that this matrix *changes* every time you update the wave function and therefore must be recomputed every time.\n",
    "$$\n",
    "u_{ij} = \\left\\langle b_i \\middle| u \\middle| b_j \\right\\rangle  \\\\\n",
    "  =  4 \\pi \\int_0^L dr r^2 b_i(r) u(r) b_j(r)\n",
    " $$\n",
    "You will compute this integral using Gaussian quadrature.  At each quadrature point you will evaluate the potential by computing the integrals as described above.\n",
    "\n",
    "I suggest that in the Python function you write to calculate the gradient (and also the one for the energy) that you just recompute this matrix every time just to be sure you are using the correct potential.  It will be slow, but correct.  If it is too slow, then once the code is working for a small basis (number of GL polynomials) you can attempt to compute the matrix once and reuse it.\n"
   ]
  },
  {
   "cell_type": "code",
   "execution_count": 1,
   "id": "6c7a1cbd",
   "metadata": {},
   "outputs": [],
   "source": [
    "import math\n",
    "import numpy as np\n",
    "import scipy\n",
    "from scipy.special import roots_legendre, eval_legendre\n",
    "import matplotlib.pyplot as plt\n",
    "\n",
    "# global constants\n",
    "Z = 2\n",
    "L = 20\n",
    "\n",
    "# quadrature setup\n",
    "N = 20\n",
    "EPSILON = 1e-12\n",
    "roots, weights = roots_legendre(N)\n",
    "degrees = np.array(range(N))\n",
    "\n",
    "# Legendre polyn, degrees [0, N-1], values at roots of P_N\n",
    "# size (N, N)\n",
    "P = np.array([eval_legendre(i, roots) for i in degrees])\n",
    "\n",
    "# corresponding derivatives, by recurrence formula\n",
    "# DP_0 and DP_1 are known constant functions\n",
    "DP = np.zeros((N, N))\n",
    "DP[1] = np.ones(N)\n",
    "for i in range(2, N):\n",
    "    DP[i] = (2*i-1) * P[i-1] + DP[i-2]"
   ]
  },
  {
   "cell_type": "code",
   "execution_count": 2,
   "metadata": {},
   "outputs": [],
   "source": [
    "# basis functions\n",
    "# note that B_0 ≡ 0, so indices are [1, N-1]\n",
    "B = lambda i: P[i] - (-1)**i\n",
    "DB = lambda i: DP[i]"
   ]
  },
  {
   "cell_type": "code",
   "execution_count": 3,
   "metadata": {},
   "outputs": [],
   "source": [
    "# Gauss-Legendre quadrature over [a, b]\n",
    "def gl_int(f, a, b):\n",
    "    return (b-a)/2 * np.dot(f((b-a)/2 * roots + (a+b)/2), weights)"
   ]
  },
  {
   "cell_type": "markdown",
   "metadata": {},
   "source": [
    "Matrices: overlap, kinetic energy, nuclear attraction potential energy, and electronic repulsion potential energy"
   ]
  },
  {
   "cell_type": "code",
   "execution_count": 4,
   "metadata": {},
   "outputs": [],
   "source": [
    "# overlap matrix\n",
    "S = np.zeros((N, N))\n",
    "for i in range(1, N):\n",
    "    for j in range(1, N):\n",
    "        S[i, j] = np.dot(B(i) * B(j), weights)\n",
    "S = S * L * 0.5"
   ]
  },
  {
   "cell_type": "code",
   "execution_count": 5,
   "metadata": {},
   "outputs": [],
   "source": [
    "T = np.zeros((N, N))\n",
    "for i in range(1, N):\n",
    "    for j in range(1, N):\n",
    "        T[i, j] = np.dot(DB(i) * DB(j), weights)\n",
    "T = T / L"
   ]
  },
  {
   "cell_type": "code",
   "execution_count": 6,
   "metadata": {},
   "outputs": [],
   "source": [
    "V = np.zeros((N, N))\n",
    "for i in range(1, N):\n",
    "    for j in range(1, N):\n",
    "        V[i, j] = np.dot(B(i) * B(j) / (roots + 1), weights)\n",
    "V = V * -Z"
   ]
  },
  {
   "cell_type": "code",
   "execution_count": 7,
   "metadata": {},
   "outputs": [],
   "source": [
    "H = T + V"
   ]
  },
  {
   "cell_type": "code",
   "execution_count": 8,
   "metadata": {},
   "outputs": [],
   "source": [
    "# general function for u\n",
    "# robustly takes r as a scalar or an array\n",
    "def calc_u(r, rho):\n",
    "    if np.isscalar(r):\n",
    "        u1 = gl_int(lambda s: s**2 * rho(s), 0, r)\n",
    "        u2 = gl_int(lambda s: s * rho(s), r, L)\n",
    "        return 4 * math.pi * (u1 / r + u2)\n",
    "    \n",
    "    num_r = len(r)\n",
    "    res = np.zeros(num_r)\n",
    "    for i in range(num_r):\n",
    "        u1 = gl_int(lambda s: s**2 * rho(s), 0, r[i])\n",
    "        u2 = gl_int(lambda s: s * rho(s), r[i], L)\n",
    "        res[i] = 4 * math.pi * (u1 / r[i] + u2)\n",
    "    return res"
   ]
  },
  {
   "cell_type": "code",
   "execution_count": 9,
   "metadata": {},
   "outputs": [
    {
     "name": "stdout",
     "output_type": "stream",
     "text": [
      "[4.69244595 2.77114054] 4.6924344183341775\n"
     ]
    }
   ],
   "source": [
    "# test u(r) works for arrays\n",
    "print(calc_u(np.array([1,2]), lambda r: np.exp(-r**2)), \\\n",
    "      (math.pi/1)**1.5 * math.erf(1) / 1)"
   ]
  },
  {
   "cell_type": "markdown",
   "metadata": {},
   "source": [
    "$$\n",
    "\\langle b_i|u|b_j \\rangle = \\frac{L^3 \\pi}{2} \\int_{-1}^{1} b_i \\ u\\!\\left(\\frac{L}{2} (y+1)\\right) b_j \\ (y+1)^2 dy\n",
    "$$"
   ]
  },
  {
   "cell_type": "code",
   "execution_count": 10,
   "metadata": {},
   "outputs": [],
   "source": [
    "def calc_VE(u):\n",
    "    VE = np.zeros((N, N))\n",
    "    for i in range(1, N):\n",
    "        for j in range(1, N):\n",
    "            VE[i, j] = np.dot(B(i) * B(j) * u(L*0.5*(roots+1)) * (roots+1)**2, weights)\n",
    "    VE = VE * L**3 * math.pi * 0.5\n",
    "    return VE"
   ]
  },
  {
   "cell_type": "code",
   "execution_count": 11,
   "metadata": {},
   "outputs": [
    {
     "data": {
      "text/plain": [
       "(array([0.36789066, 0.54134913]), array([0.36787944, 0.54134113]))"
      ]
     },
     "execution_count": 11,
     "metadata": {},
     "output_type": "execute_result"
    }
   ],
   "source": [
    "fff = lambda r: r * r * (math.e)**(-Z/2 * r)\n",
    "# NOTE: there is a condition for the function! \n",
    "# it must satisfy the boundary conditions!!!!!!\n",
    "# so f = x works while f = x+1 won't!!!!!!!\n",
    "\n",
    "cc = np.zeros(N)\n",
    "for l in range(1, N):\n",
    "    cc[l] = (2*l +1) * 0.5 * np.dot(fff(L * 0.5 * (roots + 1)) * P[l], weights)\n",
    "\n",
    "# returns array of all N basis function evaluated at x\n",
    "# if given an array of x, each x gets an array of N values\n",
    "def basis_eval(x):\n",
    "    if np.isscalar(x):\n",
    "        return eval_legendre(degrees, 2/L * x -1) - (-1)**degrees\n",
    "    \n",
    "    res = [eval_legendre(degrees, 2/L * i -1) - (-1)**degrees for i in x]\n",
    "    return np.array(res)\n",
    "\n",
    "fit = lambda r: np.dot(basis_eval(r), cc)\n",
    "\n",
    "fit(np.array([1,2])),fff(np.array([1,2]))"
   ]
  },
  {
   "cell_type": "markdown",
   "metadata": {},
   "source": [
    "Main Hartree-Fock iterations"
   ]
  },
  {
   "cell_type": "code",
   "execution_count": 26,
   "metadata": {},
   "outputs": [
    {
     "name": "stdout",
     "output_type": "stream",
     "text": [
      "15.00789279103103\n",
      "     fun: 41168.925003832155\n",
      "     jac: array([     0.        ,  74881.12929119, -16869.97348373,  48186.35110301,\n",
      "       -33294.36599902,  39213.50109205, -31393.45913596,  40743.825867  ,\n",
      "       -32681.36393279,  41973.3535801 , -34078.98867115,  40491.19772136,\n",
      "       -35743.80498292,  39866.77368363, -36862.26818682,  39336.69032384,\n",
      "       -36859.20596158,  39207.40861057, -37302.89399882,  38531.07258618])\n",
      " message: 'Desired error not necessarily achieved due to precision loss.'\n",
      "    nfev: 13\n",
      "     nit: 0\n",
      "    njev: 4\n",
      "  status: 2\n",
      " success: False\n",
      "       x: array([0.3219883 , 0.89042245, 0.58805226, 0.12659609, 0.14134122,\n",
      "       0.46789559, 0.02208966, 0.72727471, 0.52438734, 0.54493524,\n",
      "       0.45637326, 0.50138226, 0.39446855, 0.1511723 , 0.36087518,\n",
      "       0.16207701, 0.33795869, 0.18032328, 0.3909914 , 0.03564821])\n",
      "15.00789279103103\n",
      "     fun: 41168.925003832155\n",
      "     jac: array([     0.        ,  74881.12929119, -16869.97348373,  48186.35110301,\n",
      "       -33294.36599902,  39213.50109205, -31393.45913596,  40743.825867  ,\n",
      "       -32681.36393279,  41973.3535801 , -34078.98867115,  40491.19772136,\n",
      "       -35743.80498292,  39866.77368363, -36862.26818682,  39336.69032384,\n",
      "       -36859.20596158,  39207.40861057, -37302.89399882,  38531.07258618])\n",
      " message: 'Desired error not necessarily achieved due to precision loss.'\n",
      "    nfev: 13\n",
      "     nit: 0\n",
      "    njev: 4\n",
      "  status: 2\n",
      " success: False\n",
      "       x: array([0.3219883 , 0.89042245, 0.58805226, 0.12659609, 0.14134122,\n",
      "       0.46789559, 0.02208966, 0.72727471, 0.52438734, 0.54493524,\n",
      "       0.45637326, 0.50138226, 0.39446855, 0.1511723 , 0.36087518,\n",
      "       0.16207701, 0.33795869, 0.18032328, 0.3909914 , 0.03564821])\n",
      "15.00789279103103\n",
      "     fun: 41168.925003832155\n",
      "     jac: array([     0.        ,  74881.12929119, -16869.97348373,  48186.35110301,\n",
      "       -33294.36599902,  39213.50109205, -31393.45913596,  40743.825867  ,\n",
      "       -32681.36393279,  41973.3535801 , -34078.98867115,  40491.19772136,\n",
      "       -35743.80498292,  39866.77368363, -36862.26818682,  39336.69032384,\n",
      "       -36859.20596158,  39207.40861057, -37302.89399882,  38531.07258618])\n",
      " message: 'Desired error not necessarily achieved due to precision loss.'\n",
      "    nfev: 13\n",
      "     nit: 0\n",
      "    njev: 4\n",
      "  status: 2\n",
      " success: False\n",
      "       x: array([0.3219883 , 0.89042245, 0.58805226, 0.12659609, 0.14134122,\n",
      "       0.46789559, 0.02208966, 0.72727471, 0.52438734, 0.54493524,\n",
      "       0.45637326, 0.50138226, 0.39446855, 0.1511723 , 0.36087518,\n",
      "       0.16207701, 0.33795869, 0.18032328, 0.3909914 , 0.03564821])\n"
     ]
    }
   ],
   "source": [
    "np.random.seed(2023)\n",
    "e = [0]\n",
    "c = []\n",
    "c.append(np.random.random(N)) # initial guess, includes B_0\n",
    "\n",
    "# main iteration cycle\n",
    "for i in range(3):\n",
    "    psi = lambda r: np.dot(basis_eval(r), c[i]) / r\n",
    "    rho = lambda r: psi(r) ** 2\n",
    "    u = lambda r: calc_u(r, rho)\n",
    "    print(u(1))\n",
    "    VE = calc_VE(u)\n",
    "\n",
    "    def energy(c):\n",
    "        s = np.dot(c, np.dot(S, c))\n",
    "        e1 = np.dot(c, np.dot(H, c))\n",
    "        e2 = np.dot(c, np.dot(VE, c))\n",
    "        return (2 * e1 + e2) / s\n",
    "\n",
    "    def gradient(c):\n",
    "        s = np.dot(c, np.dot(S, c))\n",
    "        g1 = np.dot(H, c)\n",
    "        g2 = np.dot(VE, c)\n",
    "        return (4*(g1+g2) - 2*energy(c)*np.dot(S, c)) / s\n",
    "\n",
    "    result = scipy.optimize.minimize(energy, c[i], jac=gradient, method=\"CG\")\n",
    "    print(result)\n",
    "    e.append(result.fun)\n",
    "    c.append(result.x)"
   ]
  },
  {
   "cell_type": "markdown",
   "metadata": {},
   "source": [
    "n = 30\n",
    "\n",
    "10s per cycle\n",
    "\n",
    "61.31666559751047\n",
    "0.010240000498340009\n",
    "0.010169140460657866\n",
    "\n",
    "[0, 0.0859027822324308, -0.0024015492811198997, -0.001759891439816323]\n",
    "\n",
    "n = 40\n",
    "\n",
    "30s per cycle\n",
    "\n",
    "53.96347652236044\n",
    "9.429106418990964e-14\n",
    "9.429106418990964e-14\n",
    "\n",
    "[0, 7.723798543846569e-13, 4.5013690136536774e-13, 4.5013690136536774e-13]"
   ]
  },
  {
   "cell_type": "code",
   "execution_count": 21,
   "metadata": {},
   "outputs": [
    {
     "data": {
      "text/plain": [
       "[0, 41168.925003832155, 41168.925003832155, 41168.925003832155]"
      ]
     },
     "execution_count": 21,
     "metadata": {},
     "output_type": "execute_result"
    }
   ],
   "source": [
    "e"
   ]
  },
  {
   "cell_type": "code",
   "execution_count": 24,
   "metadata": {},
   "outputs": [
    {
     "data": {
      "text/plain": [
       "<matplotlib.legend.Legend at 0x2adebda1000>"
      ]
     },
     "execution_count": 24,
     "metadata": {},
     "output_type": "execute_result"
    },
    {
     "data": {
      "image/png": "[encoded data removed]",
      "text/plain": [
       "<Figure size 700x400 with 1 Axes>"
      ]
     },
     "metadata": {},
     "output_type": "display_data"
    }
   ],
   "source": [
    "X = np.linspace(0.1,L/2,100) # avoid division by zero\n",
    "y = np.array([np.dot(basis_eval(i), c[3]) / i for i in X])\n",
    "\n",
    "fig, ax1 = plt.subplots(figsize=(7, 4))\n",
    "\n",
    "# ax2 = ax1.twinx()\n",
    "\n",
    "# ax2.set_ylim(-32, 32)\n",
    "\n",
    "ax1.set_xlabel(r'Radial distance $r$')\n",
    "ax1.set_ylabel(r'Wavefunction radial amplitude $R_{10}(r)$')\n",
    "# ax2.set_ylabel(r'Approximation error ($10^{-5}$)')\n",
    "\n",
    "colors = plt.cm.viridis([.5, .2, .8, .9])\n",
    "\n",
    "# p1 = ax1.plot(X, y3, color=colors[0], ls='-', alpha=0.3, lw=5, label='Analytical')\n",
    "# p2 = ax1.plot(X, y2, color=colors[1], ls='-', alpha=0.5, lw=3, label='Exact coefficients')\n",
    "p3 = ax1.plot(X, y, color='k', ls='-', lw=1, label='Approximated')\n",
    "\n",
    "# p4 = ax2.plot(X, (y2 - y3) * 100000, color=colors[2], ls='-', label='Error: Exact coeff.')\n",
    "# p5 = ax2.plot(X, (y - y3) * 100000, color=colors[3], ls='-', label='Error: Approx.')\n",
    "\n",
    "ax1.legend(handles=p3, loc='best')"
   ]
  }
 ],
 "metadata": {
  "kernelspec": {
   "display_name": "Python 3 (ipykernel)",
   "language": "python",
   "name": "python3"
  },
  "language_info": {
   "codemirror_mode": {
    "name": "ipython",
    "version": 3
   },
   "file_extension": ".py",
   "mimetype": "text/x-python",
   "name": "python",
   "nbconvert_exporter": "python",
   "pygments_lexer": "ipython3",
   "version": "3.10.7"
  }
 },
 "nbformat": 4,
 "nbformat_minor": 5
}
