{
 "cells": [
  {
   "cell_type": "markdown",
   "id": "c43dd52e",
   "metadata": {},
   "source": [
    "$$ \n",
    "\\begin{aligned}\n",
    "&\\frac{1}{r^2} \\frac{d}{dr} r^2 \\frac{d}{dr} f(r) \\\\\n",
    "= &\\frac{1}{r^2} \\frac{d}{dr} r^2 \\frac{df}{dr} \\\\\n",
    "= &\\frac{1}{r^2} \\left( 2 r  \\frac{df}{dr} +    r^2 \\frac{d^2f}{dr^2}    \\right) \\\\\n",
    "= &\\frac{2}{r}  \\frac{df}{dr} + \\frac{d^2f}{dr^2}\n",
    "\\end{aligned}\n",
    "$$\n",
    "$$\n",
    "\\begin{aligned}\n",
    "&\\frac{1}{r} \\frac{d^2}{dr^2} r f(r) \\\\\n",
    "= &\\frac{1}{r} \\frac{d}{dr} \\left( f +  r \\frac{df}{dr}    \\right) \\\\\n",
    "= &\\frac{1}{r} \\left( 2 \\frac{df}{dr} +  r \\frac{d^2f}{dr^2}   \\right) \\\\\n",
    "= &\\frac{2}{r} \\frac{df}{dr} + \\frac{d^2f}{dr^2}\n",
    "\\end{aligned}\n",
    "$$"
   ]
  },
  {
   "cell_type": "markdown",
   "id": "6216e13f",
   "metadata": {},
   "source": [
    "$$\n",
    "-\\frac{1}{2} \\frac{1}{r} \\frac{d^2}{dr^2} r \\psi(r) + \\frac{1}{2 r^2} l (l+1) \\psi(r) - \\frac{Z}{r} \\psi(r) = E \\psi(r)\n",
    "$$\n",
    "$$\n",
    " \\phi(r) = r \\psi(r)\n",
    " $$\n",
    " $$\n",
    "-\\frac{1}{2} \\frac{d^2}{dr^2} \\phi(r) + \\frac{1}{2 r^2} l (l+1) \\phi(r) - \\frac{Z}{r} \\phi(r) = E \\phi(r)\n",
    "$$\n",
    "$$\n",
    "-\\frac{1}{2} \\frac{d^2}{dr^2} \\phi(r) - \\frac{Z}{r} \\phi(r) = E \\phi(r)\n",
    "$$\n",
    "$$\n",
    " r \\in [0,\\infty]\n",
    "$$\n",
    "$$\n",
    "  \\psi_{0} (r) = \\exp(-Z r)\n",
    "  $$\n",
    "$$\n",
    " \\psi(r) = 10^{-10} \\implies r > \\log(10^{-10}) / Z \\approx 2.3 \\times 10 / Z \n",
    " $$"
   ]
  },
  {
   "cell_type": "markdown",
   "id": "f629da00",
   "metadata": {},
   "source": [
    "### Fix proposed by Dr. Harrison\n",
    "But I believe the problem to be that we are not enforcing the boundary condition $\\phi(0)=0$.  We are assuming this in how we compute the kinetic energy and it is physically very important—the wave function ($\\psi$) should be finite at the origin and hence $\\phi=r\\psi$ must be zero.  This is because the potential is infinite at the origin.\n",
    "\n",
    "The behaviour is different to the harmonic oscillator, since there we were solving in a box $[-L,L]$ and the potential $x^2 / 2$ is large and positive at the ends of this range. Thus the wavefunction will be small since the particle in its ground state naturally avoids the high energy regions.  However, for the H-atom, we are using $[0,L]$ as the box and at zero the potential is large and negative—the particle wants to be there! I suspect we can get away with not enforcing the boundary condition that $\\psi(L)=0$ since the potential is large there, relative to near the origin.  However, I've been wrong before!!\n",
    "\n",
    "Thus, the fix is easy. We drop the constant basis function $P(x,0)=1$ and subtract a multiple of it from the other polynomials.  \n",
    "\n",
    "Thus, our basis functions $b_i(x)$ become\n",
    "\n",
    "$$\n",
    "b_i(x) = P(x,i+1) - (-1)^i   \\quad \\text{for }i=0,1,2,...\n",
    "$$\n",
    "\n",
    "The following I have not thought thru much, but I think is correct\n",
    "\n",
    "Since $\\langle P(i) | P(0) \\rangle = 0$ for $i>0$ (noting $P(x,0)=1$) I think the basis is still orthonormal, though the diagonal elements will change (add one to them all, I think).\n",
    "\n",
    "Since $\\frac{d}{dx} P(x,0)$ is zero, the kinetic energy matrix should be unchanged.\n",
    "\n",
    "The potential energy matrix will change.\n"
   ]
  },
  {
   "cell_type": "code",
   "execution_count": 1,
   "id": "9c82b644",
   "metadata": {},
   "outputs": [],
   "source": [
    "# setting up everything we need for the matrices\n",
    "import numpy as np\n",
    "import matplotlib.pyplot as plt\n",
    "import scipy\n",
    "from scipy.special import roots_legendre, eval_legendre\n",
    "import math\n",
    "\n",
    "Z = 1\n",
    "qn_l = 1 # quantum number l\n",
    "L = math.log(10) * 10 / Z\n",
    "\n",
    "n = 50\n",
    "epsilon = 1e-6\n",
    "roots, weights = roots_legendre(n)\n",
    "\n",
    "P = np.array([eval_legendre(i, roots) for i in range(n+1)])\n",
    "\n",
    "dP = np.zeros((n+1, n))\n",
    "dP[1] = np.ones(n)\n",
    "for i in range(2,n+1):\n",
    "    dP[i] = (2*i-1) * P[i-1] + dP[i-2]"
   ]
  },
  {
   "cell_type": "code",
   "execution_count": 2,
   "id": "730a1ae0",
   "metadata": {},
   "outputs": [],
   "source": [
    "# new basis\n",
    "b = lambda i: P[i+1] - (-1)**(i+1)\n",
    "db = lambda i: dP[i+1]"
   ]
  },
  {
   "cell_type": "markdown",
   "id": "24dd4e2d",
   "metadata": {},
   "source": [
    "The size of the matrices will now be one less in each dimension, because we have one less Legendre polynomial. "
   ]
  },
  {
   "cell_type": "code",
   "execution_count": 3,
   "id": "47763d77",
   "metadata": {},
   "outputs": [
    {
     "name": "stdout",
     "output_type": "stream",
     "text": [
      "[[ 30.70113457 -23.02585093  23.02585093 ...  23.02585093 -23.02585093\n",
      "   23.02585093]\n",
      " [-23.02585093  27.63102112 -23.02585093 ... -23.02585093  23.02585093\n",
      "  -23.02585093]\n",
      " [ 23.02585093 -23.02585093  26.31525821 ...  23.02585093 -23.02585093\n",
      "   23.02585093]\n",
      " ...\n",
      " [ 23.02585093 -23.02585093  23.02585093 ...  23.26822831 -23.02585093\n",
      "   23.02585093]\n",
      " [-23.02585093  23.02585093 -23.02585093 ... -23.02585093  23.26323084\n",
      "  -23.02585093]\n",
      " [ 23.02585093 -23.02585093  23.02585093 ...  23.02585093 -23.02585093\n",
      "   23.25843528]]\n"
     ]
    }
   ],
   "source": [
    "overlap_matrix = np.zeros((n-1,n-1))\n",
    "for l in range(n-1):\n",
    "    for m in range(n-1):\n",
    "        approx_overlap = np.dot(b(l) * b(m), weights) * L * 0.5\n",
    "        if abs(approx_overlap) < epsilon:\n",
    "            approx_overlap = 0\n",
    "        overlap_matrix[l, m] = approx_overlap\n",
    "print(overlap_matrix)\n",
    "# same as original overlap, except without the first row and column"
   ]
  },
  {
   "cell_type": "markdown",
   "id": "9b816251",
   "metadata": {},
   "source": [
    "PE: \n",
    "$$\n",
    "\\int_{-1}^{1} P_l \\frac{-Z}{\\frac{L}{2}(y + 1)} P_m \\frac{L}{2} dy \\\n",
    "= \\int_{-1}^{1} P_l \\frac{-Z}{y + 1} P_m dy\n",
    "$$"
   ]
  },
  {
   "cell_type": "code",
   "execution_count": 4,
   "id": "c908961a",
   "metadata": {},
   "outputs": [
    {
     "name": "stdout",
     "output_type": "stream",
     "text": [
      "[[-2.          2.         -2.         ... -2.          2.\n",
      "  -2.        ]\n",
      " [ 2.         -3.          3.         ...  3.         -3.\n",
      "   3.        ]\n",
      " [-2.          3.         -3.66666667 ... -3.66666667  3.66666667\n",
      "  -3.66666667]\n",
      " ...\n",
      " [-2.          3.         -3.66666667 ... -8.87592768  8.87592768\n",
      "  -8.87592768]\n",
      " [ 2.         -3.          3.66666667 ...  8.87592768 -8.91759435\n",
      "   8.91759435]\n",
      " [-2.          3.         -3.66666667 ... -8.87592768  8.91759435\n",
      "  -8.95841068]]\n"
     ]
    }
   ],
   "source": [
    "pe_matrix = np.zeros((n-1, n-1))\n",
    "for l in range(n-1):\n",
    "    for m in range(n-1):\n",
    "        approx_pe = np.dot(b(l) * b(m) / (roots + 1), weights) * -Z\n",
    "        if abs(approx_pe) < epsilon:\n",
    "            approx_pe = 0\n",
    "        pe_matrix[l, m] = approx_pe\n",
    "print(pe_matrix)"
   ]
  },
  {
   "cell_type": "code",
   "execution_count": 5,
   "id": "96accbf8",
   "metadata": {},
   "outputs": [
    {
     "name": "stdout",
     "output_type": "stream",
     "text": [
      "[[8.68588964e-02 0.00000000e+00 8.68588964e-02 ... 8.68588964e-02\n",
      "  0.00000000e+00 8.68588964e-02]\n",
      " [0.00000000e+00 2.60576689e-01 0.00000000e+00 ... 0.00000000e+00\n",
      "  2.60576689e-01 0.00000000e+00]\n",
      " [8.68588964e-02 0.00000000e+00 5.21153378e-01 ... 5.21153378e-01\n",
      "  0.00000000e+00 5.21153378e-01]\n",
      " ...\n",
      " [8.68588964e-02 0.00000000e+00 5.21153378e-01 ... 9.79768351e+01\n",
      "  0.00000000e+00 9.79768351e+01]\n",
      " [0.00000000e+00 2.60576689e-01 0.00000000e+00 ... 0.00000000e+00\n",
      "  1.02146062e+02 0.00000000e+00]\n",
      " [8.68588964e-02 0.00000000e+00 5.21153378e-01 ... 9.79768351e+01\n",
      "  0.00000000e+00 1.06402148e+02]]\n"
     ]
    }
   ],
   "source": [
    "ke_matrix = np.zeros((n-1, n-1))\n",
    "for l in range(n-1):\n",
    "    for m in range(n-1):\n",
    "        approx_ke = np.dot(db(l) * db(m), weights) / L\n",
    "        if abs(approx_ke) < epsilon:\n",
    "            approx_ke = 0\n",
    "        ke_matrix[l, m] = approx_ke\n",
    "print(ke_matrix)"
   ]
  },
  {
   "cell_type": "code",
   "execution_count": 6,
   "id": "5dc93f9a",
   "metadata": {},
   "outputs": [
    {
     "name": "stdout",
     "output_type": "stream",
     "text": [
      "[[ 1.73717793e-01 -2.60576689e-01  3.18482620e-01 ...  7.70953283e-01\n",
      "  -7.74572404e-01  7.78117665e-01]\n",
      " [-2.60576689e-01  5.21153378e-01 -6.94871171e-01 ... -2.05228316e+00\n",
      "   2.06314052e+00 -2.07377630e+00]\n",
      " [ 3.18482620e-01 -6.94871171e-01  1.04230676e+00 ...  3.75713073e+00\n",
      "  -3.77884546e+00  3.80011702e+00]\n",
      " ...\n",
      " [ 7.70953283e-01 -2.05228316e+00  3.75713073e+00 ...  1.95953670e+02\n",
      "  -2.00036038e+02  2.04035093e+02]\n",
      " [-7.74572404e-01  2.06314052e+00 -3.77884546e+00 ... -2.00036038e+02\n",
      "   2.04292124e+02 -2.08461351e+02]\n",
      " [ 7.78117665e-01 -2.07377630e+00  3.80011702e+00 ...  2.04035093e+02\n",
      "  -2.08461351e+02  2.12804296e+02]]\n"
     ]
    }
   ],
   "source": [
    "angular_ke_matrix = np.zeros((n-1, n-1))\n",
    "for l in range(n-1):\n",
    "    for m in range(n-1):\n",
    "        approx = np.dot(b(l) * b(m) / (1 + roots)**2, weights) * qn_l * (qn_l + 1) / L\n",
    "        if abs(approx) < epsilon:\n",
    "            approx = 0 \n",
    "        angular_ke_matrix[l, m] = approx\n",
    "print(angular_ke_matrix)"
   ]
  },
  {
   "cell_type": "code",
   "execution_count": 7,
   "id": "bdf820ce",
   "metadata": {},
   "outputs": [
    {
     "name": "stdout",
     "output_type": "stream",
     "text": [
      "[-1.00018678e+00 -7.51296015e-02  9.48242361e-01 -8.65234960e-01\n",
      "  3.29600009e-01  6.41224992e-02 -1.80489125e-01  1.44655750e-01\n",
      " -8.00531555e-02  3.53054212e-02 -1.31490844e-02  4.26913503e-03\n",
      " -1.23323088e-03  3.21576449e-04 -7.65220700e-05  1.67599182e-05\n",
      " -3.40221569e-06  6.43830194e-07 -1.14138648e-07  1.90362484e-08\n",
      " -2.99789692e-09  4.47245280e-10 -6.33902061e-11  8.55710439e-12\n",
      " -1.10478353e-12  1.38499060e-13 -2.12959499e-14  8.83028290e-15\n",
      " -9.39154133e-15  7.60319813e-15 -3.62996986e-15 -2.19793615e-15\n",
      "  4.20986132e-15 -2.71358482e-15 -3.02711364e-15  4.63481563e-15\n",
      "  1.07885528e-15 -1.13815169e-14  1.32656502e-14 -8.78162594e-15\n",
      "  3.14749820e-16  4.77748605e-15 -5.69820515e-15  5.48342194e-15\n",
      " -9.09796416e-15  1.39774927e-14 -1.55429122e-14  6.41760696e-15\n",
      "  1.09533233e-14]\n"
     ]
    },
    {
     "data": {
      "text/plain": [
       "(1.7923344612430863, 1.7923344612431023)"
      ]
     },
     "execution_count": 7,
     "metadata": {},
     "output_type": "execute_result"
    }
   ],
   "source": [
    "#obtaining exact coefficients\n",
    "# phi = lambda r: r * (math.e)**(-Z * r)\n",
    "phi = lambda r: r * r * (math.e)**(-Z/2 * r)\n",
    "\n",
    "c = np.zeros(n-1)\n",
    "for l in range(n-1):\n",
    "    c[l] = (2*l +3) * 0.5 * np.dot(phi(L * 0.5 * (roots + 1)) * P[l+1], weights)\n",
    "print(c)\n",
    "\n",
    "# return basis function evaluations\n",
    "def basis_eval(n, x):\n",
    "    res = np.zeros(n)\n",
    "    for i in range(n):\n",
    "        res[i] = eval_legendre(i+1, 2/L * x -1) - (-1)**(i+1)\n",
    "    return res\n",
    "\n",
    "fit = lambda x : np.dot(basis_eval(n-1, x), c)\n",
    "fit(6),phi(6)"
   ]
  },
  {
   "cell_type": "code",
   "execution_count": 8,
   "id": "3cf0eb43",
   "metadata": {},
   "outputs": [
    {
     "data": {
      "text/plain": [
       "[<matplotlib.lines.Line2D at 0x156231d6e90>,\n",
       " <matplotlib.lines.Line2D at 0x156231d5e70>]"
      ]
     },
     "execution_count": 8,
     "metadata": {},
     "output_type": "execute_result"
    },
    {
     "data": {
      "image/png": "[encoded data removed]",
      "text/plain": [
       "<Figure size 640x480 with 1 Axes>"
      ]
     },
     "metadata": {},
     "output_type": "display_data"
    }
   ],
   "source": [
    "# phi(X) plotted with fit, showing very small error\n",
    "X = np.linspace(start=0,stop=L,num=51)\n",
    "F = [fit(x) for x in X]\n",
    "plt.plot(X,F,\"r\",X,phi(X),\"b--\")"
   ]
  },
  {
   "cell_type": "code",
   "execution_count": 9,
   "id": "a1040fc4",
   "metadata": {},
   "outputs": [
    {
     "name": "stdout",
     "output_type": "stream",
     "text": [
      "23.999966312757177 0.9999970677260585 1.9999999421757366 -5.999998605720176\n",
      "0.041666602973292936 0.08333344789374296 -0.2500002928141977 -0.12500024194716183\n"
     ]
    }
   ],
   "source": [
    "# numerical overlap computation\n",
    "overlap_estimate = np.dot(c, np.dot(overlap_matrix, c))\n",
    "ke_integral = np.dot(c, np.dot(ke_matrix, c))\n",
    "angular_ke_integral = np.dot(c, np.dot(angular_ke_matrix, c))\n",
    "pe_integral = np.dot(c, np.dot(pe_matrix, c))\n",
    "\n",
    "ke_approx = ke_integral / overlap_estimate\n",
    "pe_approx = pe_integral / overlap_estimate\n",
    "angular_ke_approx = angular_ke_integral / overlap_estimate\n",
    "\n",
    "energy_approx = ke_approx + angular_ke_approx + pe_approx\n",
    "print(overlap_estimate, ke_integral, angular_ke_integral, pe_integral)\n",
    "print(ke_approx, angular_ke_approx, pe_approx, energy_approx)"
   ]
  },
  {
   "cell_type": "code",
   "execution_count": 10,
   "id": "09bbea5d",
   "metadata": {},
   "outputs": [],
   "source": [
    "def energy(c):\n",
    "    overlap_integral = np.dot(c, np.dot(overlap_matrix, c))\n",
    "    ke_integral = np.dot(c, np.dot(ke_matrix, c))\n",
    "    pe_integral = np.dot(c, np.dot(pe_matrix, c))\n",
    "    angular_ke_integral = np.dot(c, np.dot(angular_ke_matrix, c))\n",
    "    return (ke_integral + angular_ke_integral + pe_integral) / overlap_integral"
   ]
  },
  {
   "cell_type": "code",
   "execution_count": 11,
   "id": "df0f7479",
   "metadata": {},
   "outputs": [],
   "source": [
    "def gradient(c):\n",
    "    h_matrix = ke_matrix + pe_matrix + angular_ke_matrix\n",
    "    integral = np.dot(h_matrix - energy(c) * overlap_matrix, c)\n",
    "    overlap_integral = np.dot(c, np.dot(overlap_matrix, c))\n",
    "    return 2 * integral / overlap_integral"
   ]
  },
  {
   "cell_type": "code",
   "execution_count": 12,
   "id": "21e4141a",
   "metadata": {},
   "outputs": [
    {
     "data": {
      "text/plain": [
       "array([-1.25000490e-01, -5.68819874e-02, -3.04827608e-02,  2.01823631e-02,\n",
       "        9.45995282e-02,  1.89613568e-01,  3.04431640e-01,  4.38687987e-01,\n",
       "        5.92173780e-01,  7.64755195e-01,  9.56339939e-01,  1.16686104e+00,\n",
       "        1.39626805e+00,  1.64452187e+00,  1.91159149e+00,  2.19745186e+00,\n",
       "        2.50208239e+00,  2.82546601e+00,  3.16758832e+00,  3.52843708e+00,\n",
       "        3.90800184e+00,  4.30627352e+00,  4.72324425e+00,  5.15890734e+00,\n",
       "        5.61325796e+00,  6.08632494e+00,  6.57817835e+00,  7.09063437e+00,\n",
       "        7.62400142e+00,  8.20774819e+00,  8.81468398e+00,  9.61761038e+00,\n",
       "        1.03750089e+01,  1.16634581e+01,  1.26570086e+01,  1.48202470e+01,\n",
       "        1.61584158e+01,  1.99495250e+01,  2.18193568e+01,  2.89694612e+01,\n",
       "        3.17373920e+01,  4.69215771e+01,  5.14143692e+01,  9.08094802e+01,\n",
       "        9.93666498e+01,  2.51172793e+02,  2.73945142e+02,  2.27987074e+03,\n",
       "        2.47226791e+03])"
      ]
     },
     "execution_count": 12,
     "metadata": {},
     "output_type": "execute_result"
    }
   ],
   "source": [
    "# this finds all eigenstates possible... first one is ground state\n",
    "scipy.linalg.eigh(ke_matrix + pe_matrix + angular_ke_matrix, overlap_matrix, eigvals_only=True)"
   ]
  },
  {
   "cell_type": "code",
   "execution_count": 13,
   "id": "90d98e2b",
   "metadata": {},
   "outputs": [
    {
     "data": {
      "text/plain": [
       "array([-1.82368697e-04, -3.29318343e-07, -1.82151027e-04, -3.66974575e-07,\n",
       "       -1.82200006e-04, -3.20052550e-07, -1.82219503e-04, -3.18392056e-07,\n",
       "       -1.82215873e-04, -3.21561941e-07, -1.82214182e-04, -3.22263151e-07,\n",
       "       -1.82213938e-04, -3.22337258e-07, -1.82213918e-04, -3.22342144e-07,\n",
       "       -1.82213917e-04, -3.22342346e-07, -1.82213917e-04, -3.22342325e-07,\n",
       "       -1.82213917e-04, -3.22342291e-07, -1.82213917e-04, -3.22342255e-07,\n",
       "       -1.82213917e-04, -3.22342219e-07, -1.82213917e-04, -3.22342184e-07,\n",
       "       -1.82213917e-04, -3.22342152e-07, -1.82213917e-04, -3.22342123e-07,\n",
       "       -1.82213917e-04, -3.22342092e-07, -1.82213917e-04, -3.22342059e-07,\n",
       "       -1.82213917e-04, -3.22342029e-07, -1.82213917e-04, -3.22341992e-07,\n",
       "       -1.82213917e-04, -3.22341950e-07, -1.82213917e-04, -3.22341912e-07,\n",
       "       -1.82213917e-04, -3.22341878e-07, -1.82213917e-04, -3.22341854e-07,\n",
       "       -1.82213917e-04])"
      ]
     },
     "execution_count": 13,
     "metadata": {},
     "output_type": "execute_result"
    }
   ],
   "source": [
    "gradient(c)"
   ]
  },
  {
   "cell_type": "code",
   "execution_count": 14,
   "id": "dda33758",
   "metadata": {},
   "outputs": [
    {
     "name": "stdout",
     "output_type": "stream",
     "text": [
      "     fun: -0.12500032651631282\n",
      "     jac: array([ 9.33327495e-07,  6.33831051e-06, -5.69192408e-06, -4.37139022e-06,\n",
      "        5.52120859e-06,  6.59463798e-07, -4.25002394e-06,  1.69075598e-06,\n",
      "       -1.83096728e-06,  3.85805300e-07, -2.13550098e-06, -1.05322391e-07,\n",
      "       -2.05514234e-06, -9.28380496e-07, -1.71650546e-06, -1.95057528e-06,\n",
      "       -1.37853049e-06, -2.81686091e-06, -1.28915367e-06, -3.24229466e-06,\n",
      "       -1.59024090e-06, -3.16432569e-06, -2.06228750e-06, -2.84136805e-06,\n",
      "       -2.27198434e-06, -2.62570545e-06, -1.87180748e-06, -2.72579298e-06,\n",
      "       -9.91581744e-07, -2.86477871e-06, -4.92606380e-07, -2.32949856e-06,\n",
      "       -1.18809122e-06, -9.33826362e-07, -2.67995074e-06,  5.38765182e-07,\n",
      "       -3.48151310e-06,  1.10812147e-06, -2.30503118e-06,  4.98435176e-07,\n",
      "        8.37491692e-07, -8.40958367e-07,  4.62934339e-06, -2.35476593e-06,\n",
      "        7.34261055e-06, -3.66643653e-06,  8.10108020e-06, -4.55776156e-06,\n",
      "        7.80833929e-06])\n",
      " message: 'Optimization terminated successfully.'\n",
      "    nfev: 789\n",
      "     nit: 406\n",
      "    njev: 789\n",
      "  status: 0\n",
      " success: True\n",
      "       x: array([ 7.68582153e+00,  5.80378954e-01, -7.31299104e+00,  6.63939015e+00,\n",
      "       -2.52157275e+00, -4.94333688e-01,  1.38145901e+00, -1.10998174e+00,\n",
      "        6.15886045e-01, -2.71783177e-01,  1.01070849e-01, -3.27990967e-02,\n",
      "        9.42671432e-03, -2.45736523e-03,  5.99380592e-04, -1.92782217e-04,\n",
      "        8.53092414e-05, -1.12070439e-04,  7.40300750e-05, -9.75560439e-05,\n",
      "        1.94859287e-05, -3.55625867e-05, -5.58665759e-05,  2.60559492e-05,\n",
      "       -1.00217614e-04,  5.20842208e-05, -6.59363253e-05,  4.47241202e-06,\n",
      "        6.05387650e-05, -9.12614011e-05,  1.57650182e-04, -1.04908342e-04,\n",
      "        9.34047422e-05, -3.47073096e-06, -8.29711301e-05,  1.03708330e-04,\n",
      "       -2.10934997e-04,  1.21823034e-04, -1.89030031e-04,  6.62211141e-05,\n",
      "       -4.53803391e-05,  8.86067551e-06,  1.16066613e-04, -2.44534501e-05,\n",
      "        1.81608591e-04, -3.97115302e-05,  8.92369722e-05, -3.95485628e-05,\n",
      "       -6.03705787e-05])\n"
     ]
    }
   ],
   "source": [
    "np.random.seed(2023)\n",
    "c0 = np.random.random(n-1)\n",
    "result = scipy.optimize.minimize(energy, c0, jac=gradient, method=\"CG\")\n",
    "print(result)"
   ]
  },
  {
   "cell_type": "code",
   "execution_count": 15,
   "id": "6da2773f",
   "metadata": {},
   "outputs": [
    {
     "data": {
      "text/plain": [
       "'\\nnp.random.seed(2023)\\nc0 = np.random.random(n)\\nconjugate_gradient(energy, gradient, c0)\\n'"
      ]
     },
     "execution_count": 15,
     "metadata": {},
     "output_type": "execute_result"
    }
   ],
   "source": [
    "def conjugate_gradient(function, gradient, c0):\n",
    "    p = 1\n",
    "    epsilon = 1e-3 # threshold for error\n",
    "    position = c0\n",
    "    r = -gradient(position)\n",
    "    d = r\n",
    "    old_r = r\n",
    "\n",
    "    # calculating step size\n",
    "    def diff(f, x, h=1e-3):\n",
    "        return (f(x+h) - f(x-h)) / (2*h)\n",
    "    \n",
    "    def diff_2nd(f, x, h=1e-3):\n",
    "        return (diff(f, x+h) - diff(f, x-h)) / (2*h)\n",
    "    \n",
    "    while np.linalg.norm(r) > epsilon:\n",
    "        line_function = lambda s: function(position + s * d)\n",
    "        diff_line_function = diff(line_function, 0)\n",
    "        diff_2nd_line_function = diff_2nd(line_function, 0)\n",
    "        step_size = - diff_line_function / diff_2nd_line_function\n",
    "\n",
    "        position += step_size * d\n",
    "        old_r = r\n",
    "        r = -gradient(position)\n",
    "        beta = np.dot(r, r - old_r)/np.dot(old_r, old_r)\n",
    "        d = r + beta * d\n",
    "#        print(p, function(position), np.linalg.norm(r), step_size, diff_line_function, diff_2nd_line_function)\n",
    "        p += 1\n",
    "        \n",
    "    return position, function(position), gradient(position)\n",
    "\n",
    "'''\n",
    "np.random.seed(2023)\n",
    "c0 = np.random.random(n)\n",
    "conjugate_gradient(energy, gradient, c0)\n",
    "'''"
   ]
  },
  {
   "cell_type": "code",
   "execution_count": 16,
   "id": "13f817a9",
   "metadata": {},
   "outputs": [
    {
     "name": "stdout",
     "output_type": "stream",
     "text": [
      "1421.1695726006676 59.08002511988853 118.2448546250838 -354.97154035510454\n",
      "0.04157141150424091 0.08320249525797388 -0.2497742332785276 -0.12500032651631282\n"
     ]
    }
   ],
   "source": [
    "cc = result.x\n",
    "\n",
    "overlap_estimate = np.dot(cc, np.dot(overlap_matrix, cc))\n",
    "ke_integral = np.dot(cc, np.dot(ke_matrix, cc))\n",
    "angular_ke_integral = np.dot(cc, np.dot(angular_ke_matrix, cc))\n",
    "pe_integral = np.dot(cc, np.dot(pe_matrix, cc))\n",
    "\n",
    "ke_approx = ke_integral / overlap_estimate\n",
    "pe_approx = pe_integral / overlap_estimate\n",
    "angular_ke_approx = angular_ke_integral / overlap_estimate\n",
    "\n",
    "energy_approx = ke_approx + angular_ke_approx + pe_approx\n",
    "print(overlap_estimate, ke_integral, angular_ke_integral, pe_integral)\n",
    "print(ke_approx, angular_ke_approx, pe_approx, energy_approx)"
   ]
  },
  {
   "cell_type": "code",
   "execution_count": 17,
   "id": "3c9ee827",
   "metadata": {},
   "outputs": [],
   "source": [
    "# integrated function that does all the calculations together\n",
    "def setup(n, Z=1, epsilon=1e-13):\n",
    "    L = 30\n",
    "    qn_l = 0\n",
    "\n",
    "    roots, weights = roots_legendre(n)\n",
    "\n",
    "    P = np.array([eval_legendre(i, roots) for i in range(n+1)])\n",
    "\n",
    "    dP = np.zeros((n+1, n))\n",
    "    dP[1] = np.ones(n)\n",
    "    for i in range(2,n+1):\n",
    "        dP[i] = (2*i-1) * P[i-1] + dP[i-2]\n",
    "\n",
    "    # new basis\n",
    "    b = lambda i: P[i+1] - (-1)**(i+1)\n",
    "    db = lambda i: dP[i+1]\n",
    "    \n",
    "    overlap_matrix = np.zeros((n-1,n-1))\n",
    "    for l in range(n-1):\n",
    "        for m in range(n-1):\n",
    "            approx_overlap = np.dot(b(l) * b(m), weights) * L * 0.5\n",
    "            if abs(approx_overlap) < epsilon:\n",
    "                approx_overlap = 0\n",
    "            overlap_matrix[l, m] = approx_overlap\n",
    "    # same as original overlap, except without the first row and column\n",
    "\n",
    "    pe_matrix = np.zeros((n-1, n-1))\n",
    "    for l in range(n-1):\n",
    "        for m in range(n-1):\n",
    "            approx_pe = np.dot(b(l) * b(m) / (roots + 1), weights) * -Z\n",
    "            if abs(approx_pe) < epsilon:\n",
    "                approx_pe = 0\n",
    "            pe_matrix[l, m] = approx_pe\n",
    "\n",
    "    ke_matrix = np.zeros((n-1, n-1))\n",
    "    for l in range(n-1):\n",
    "        for m in range(n-1):\n",
    "            approx_ke = np.dot(db(l) * db(m), weights) / L + np.dot(b(l) * b(m) / (roots + 1)**2, weights) * qn_l * (qn_l + 1) / L\n",
    "            if abs(approx_ke) < epsilon:\n",
    "                approx_ke = 0\n",
    "            ke_matrix[l, m] = approx_ke\n",
    "        \n",
    "    #obtaining exact coefficients\n",
    "    # phi = lambda r: r**2 * (math.e)**(-Z * r * 0.5) # for excited state\n",
    "    phi = lambda r: 2*Z**(3/2) * r * (math.e)**(-Z * r) # for ground state\n",
    "    \n",
    "    c_exact = np.zeros(n-1)\n",
    "    for l in range(n-1):\n",
    "        c_exact[l] = (2*l +3) * 0.5 * np.dot(phi(L * 0.5 * (roots + 1)) * P[l+1], weights)\n",
    "    \n",
    "    def energy(c):\n",
    "        overlap_integral = np.dot(c, np.dot(overlap_matrix, c))\n",
    "        ke_integral = np.dot(c, np.dot(ke_matrix, c))\n",
    "        pe_integral = np.dot(c, np.dot(pe_matrix, c))\n",
    "        return (ke_integral + pe_integral) / overlap_integral\n",
    "\n",
    "    def gradient(c):\n",
    "        h_matrix = ke_matrix + pe_matrix\n",
    "        integral = np.dot(h_matrix - energy(c) * overlap_matrix, c)\n",
    "        overlap_integral = np.dot(c, np.dot(overlap_matrix, c))\n",
    "        return 2 * integral / overlap_integral\n",
    "\n",
    "    np.random.seed(1000)\n",
    "    c0 = np.random.random(n-1)\n",
    "    result = scipy.optimize.minimize(energy, c0, jac=gradient, method=\"CG\")\n",
    "\n",
    "    return energy(c_exact), result.fun"
   ]
  },
  {
   "cell_type": "code",
   "execution_count": 18,
   "id": "729a266a",
   "metadata": {},
   "outputs": [
    {
     "data": {
      "text/plain": [
       "(-0.5000000000001427, -0.4999995873183468)"
      ]
     },
     "execution_count": 18,
     "metadata": {},
     "output_type": "execute_result"
    }
   ],
   "source": [
    "setup(50)"
   ]
  },
  {
   "cell_type": "code",
   "execution_count": 19,
   "id": "ddd1364b",
   "metadata": {},
   "outputs": [
    {
     "data": {
      "text/plain": [
       "<matplotlib.legend.Legend at 0x15627732890>"
      ]
     },
     "execution_count": 19,
     "metadata": {},
     "output_type": "execute_result"
    },
    {
     "data": {
      "image/png": "[encoded data removed]",
      "text/plain": [
       "<Figure size 500x300 with 2 Axes>"
      ]
     },
     "metadata": {},
     "output_type": "display_data"
    }
   ],
   "source": [
    "X = np.linspace(0,L,300)\n",
    "\n",
    "y2 = [phi(i) for i in X]\n",
    "y = np.array([np.dot(basis_eval(n-1, i), result.x) for i in X]) \\\n",
    "    / np.dot(basis_eval(n-1, 4), result.x) * phi(4)\n",
    "\n",
    "# is there a way to calculate the exact normalization factor?\n",
    "\n",
    "'''\n",
    "# fake way to scale\n",
    "scale = y[100]/y2[100]\n",
    "y /= scale\n",
    "'''\n",
    "\n",
    "fig, ax1 = plt.subplots(figsize=(5, 3))\n",
    "\n",
    "ax2 = ax1.twinx()\n",
    "\n",
    "ax2.set_ylim(-20, 20)\n",
    "\n",
    "ax1.set_xlabel(r'Position [$r$]')\n",
    "ax1.set_ylabel(r'Function amplitude [$\\phi(r)$]')\n",
    "ax2.set_ylabel(r'Approximation error ($10^{-3}$)')\n",
    "\n",
    "colors = plt.cm.viridis([.5, .8])\n",
    "\n",
    "p1 = ax1.plot(X, y2, color=colors[0], ls='-', alpha=0.4, lw=5, label='Analytical')\n",
    "p2 = ax1.plot(X, y, color='k', ls='-', lw=1, label='Approximated')\n",
    "#p2b = ax1.plot(X, ratio, color='r', ls='-', lw=1, label='ratio')\n",
    "p3 = ax2.plot(X, (y2 - y) * 1000, color=colors[1], ls='-', label='Error')\n",
    "\n",
    "#ax1.legend(handles=p1+p2+p2b+p3, loc='best')\n",
    "ax1.legend(handles=p1+p2, loc='best')\n",
    "\n",
    "\n",
    "# plt.savefig('fig1.png', bbox_inches='tight', dpi=300)"
   ]
  },
  {
   "cell_type": "code",
   "execution_count": 20,
   "id": "881ede9a",
   "metadata": {},
   "outputs": [
    {
     "data": {
      "image/png": "[encoded data removed]",
      "text/plain": [
       "<Figure size 500x300 with 1 Axes>"
      ]
     },
     "metadata": {},
     "output_type": "display_data"
    }
   ],
   "source": [
    "X = []\n",
    "e_exact = []\n",
    "e_approx = []\n",
    "\n",
    "for i in range(2,50,1):\n",
    "    exact, approx = setup(i)\n",
    "    X.append(i)\n",
    "    e_exact.append(exact)\n",
    "    e_approx.append(approx)\n",
    "\n",
    "\n",
    "fig, ax1 = plt.subplots(figsize=(5, 3))\n",
    "ax1.set_xlabel(r'n')\n",
    "ax1.set_ylabel(r'E')\n",
    "\n",
    "colors = plt.cm.viridis([.5, .8])\n",
    "\n",
    "p1 = ax1.plot(X, e_exact, color=colors[0], ls='-', lw=1, label='Analytical')\n",
    "p2 = ax1.plot(X, e_approx, color=colors[1], ls='-', lw=1, label='Approximated')\n",
    "\n",
    "ax1.legend(handles=p1+p2, loc='best')\n",
    "\n",
    "plt.savefig('fig/hatom-fix.png', bbox_inches='tight', dpi=300)"
   ]
  },
  {
   "cell_type": "markdown",
   "id": "ab80f2bb",
   "metadata": {},
   "source": [
    "### Normalized wavefunctions"
   ]
  },
  {
   "cell_type": "markdown",
   "id": "1f432c38",
   "metadata": {},
   "source": [
    "Note that we are using $L = 30$ in this case, since we are not strictly adhering to the previous $10^{-10}$. "
   ]
  },
  {
   "cell_type": "code",
   "execution_count": 21,
   "id": "f260fd35",
   "metadata": {},
   "outputs": [],
   "source": [
    "# integrated function that does all the calculations together\n",
    "def solve_norm(n, Z=1, epsilon=1e-13):\n",
    "    L = 30\n",
    "    qn_l = 0\n",
    "\n",
    "    roots, weights = roots_legendre(n)\n",
    "\n",
    "    P = np.array([eval_legendre(i, roots) for i in range(n+1)])\n",
    "\n",
    "    dP = np.zeros((n+1, n))\n",
    "    dP[1] = np.ones(n)\n",
    "    for i in range(2,n+1):\n",
    "        dP[i] = (2*i-1) * P[i-1] + dP[i-2]\n",
    "\n",
    "    # new basis\n",
    "    b = lambda i: P[i+1] - (-1)**(i+1)\n",
    "    db = lambda i: dP[i+1]\n",
    "    \n",
    "    overlap_matrix = np.zeros((n-1,n-1))\n",
    "    for l in range(n-1):\n",
    "        for m in range(n-1):\n",
    "            approx_overlap = np.dot(b(l) * b(m), weights) * L * 0.5\n",
    "            if abs(approx_overlap) < epsilon:\n",
    "                approx_overlap = 0\n",
    "            overlap_matrix[l, m] = approx_overlap\n",
    "    # same as original overlap, except without the first row and column\n",
    "\n",
    "    pe_matrix = np.zeros((n-1, n-1))\n",
    "    for l in range(n-1):\n",
    "        for m in range(n-1):\n",
    "            approx_pe = np.dot(b(l) * b(m) / (roots + 1), weights) * -Z\n",
    "            if abs(approx_pe) < epsilon:\n",
    "                approx_pe = 0\n",
    "            pe_matrix[l, m] = approx_pe\n",
    "\n",
    "    ke_matrix = np.zeros((n-1, n-1))\n",
    "    for l in range(n-1):\n",
    "        for m in range(n-1):\n",
    "            approx_ke = np.dot(db(l) * db(m), weights) / L + np.dot(b(l) * b(m) / (roots + 1)**2, weights) * qn_l * (qn_l + 1) / L\n",
    "            if abs(approx_ke) < epsilon:\n",
    "                approx_ke = 0\n",
    "            ke_matrix[l, m] = approx_ke\n",
    "        \n",
    "    #obtaining exact coefficients\n",
    "    # phi = lambda r: r**2 * (math.e)**(-Z * r * 0.5) # for excited state\n",
    "    phi = lambda r: 2*Z**(3/2) * r * (math.e)**(-Z * r) # for ground state\n",
    "    \n",
    "    c_exact = np.zeros(n-1)\n",
    "    for l in range(n-1):\n",
    "        c_exact[l] = (2*l +3) * 0.5 * np.dot(phi(L * 0.5 * (roots + 1)) * P[l+1], weights)\n",
    "    \n",
    "    def energy(c):\n",
    "        overlap_integral = np.dot(c, np.dot(overlap_matrix, c))\n",
    "        ke_integral = np.dot(c, np.dot(ke_matrix, c))\n",
    "        pe_integral = np.dot(c, np.dot(pe_matrix, c))\n",
    "        return (ke_integral + pe_integral) / overlap_integral\n",
    "\n",
    "    def gradient(c):\n",
    "        h_matrix = ke_matrix + pe_matrix\n",
    "        integral = np.dot(h_matrix - energy(c) * overlap_matrix, c)\n",
    "        overlap_integral = np.dot(c, np.dot(overlap_matrix, c))\n",
    "        return 2 * integral / overlap_integral\n",
    "\n",
    "    np.random.seed(1000)\n",
    "    c0 = np.random.random(n-1)\n",
    "    result = scipy.optimize.minimize(energy, c0, jac=gradient, method=\"CG\")\n",
    "    # approx overlap integral for normalization\n",
    "    s_approx = np.dot(result.x, np.dot(overlap_matrix, result.x))\n",
    "\n",
    "    return s_approx, energy(c_exact), result.fun, c_exact, result.x"
   ]
  },
  {
   "cell_type": "code",
   "execution_count": 22,
   "id": "73663cd8",
   "metadata": {},
   "outputs": [
    {
     "name": "stdout",
     "output_type": "stream",
     "text": [
      "12635.864490345897 -0.5000000000001427 -0.4999995873183468\n"
     ]
    }
   ],
   "source": [
    "s_int, e_exact, e_approx, c_exact, c_approx = solve_norm(50)\n",
    "print(s_int, e_exact, e_approx)"
   ]
  },
  {
   "cell_type": "code",
   "execution_count": 23,
   "id": "0d12ab99",
   "metadata": {},
   "outputs": [
    {
     "data": {
      "image/png": "[encoded data removed]",
      "text/plain": [
       "<Figure size 700x400 with 2 Axes>"
      ]
     },
     "metadata": {},
     "output_type": "display_data"
    }
   ],
   "source": [
    "L = 30\n",
    "Z = 1\n",
    "X = np.linspace(0,L,200)\n",
    "c_norm = c_approx / (s_int**0.5)\n",
    "y = np.array([np.dot(basis_eval(n-1, i), c_norm) for i in X])\n",
    "y2 = np.array([np.dot(basis_eval(n-1, i), c_exact) for i in X])\n",
    "\n",
    "phi = lambda r: 2*Z**(3/2) * r * (math.e)**(-Z * r)\n",
    "y3 = phi(X)\n",
    "\n",
    "fig, ax1 = plt.subplots(figsize=(7, 4))\n",
    "\n",
    "ax2 = ax1.twinx()\n",
    "\n",
    "ax2.set_ylim(-16, 16)\n",
    "\n",
    "ax1.set_xlabel(r'Position [$x$]')\n",
    "ax1.set_ylabel(r'Wavefunction amplitude [$\\psi(x)$]')\n",
    "ax2.set_ylabel(r'Approximation error ($10^{-4}$)')\n",
    "\n",
    "colors = plt.cm.viridis([.5, .2, .8, .9])\n",
    "\n",
    "p1 = ax1.plot(X, y3, color=colors[0], ls='-', alpha=0.3, lw=5, label='Analytical')\n",
    "p2 = ax1.plot(X, y2, color=colors[1], ls='-', alpha=0.5, lw=3, label='Exact coefficients')\n",
    "p3 = ax1.plot(X, y, color='k', ls='-', lw=1, label='Approximated')\n",
    "\n",
    "p4 = ax2.plot(X, (y2 - y3) * 10000, color=colors[2], ls='-', label='Error: Exact coeff.')\n",
    "p5 = ax2.plot(X, (y - y3) * 10000, color=colors[3], ls='-', label='Error: Approx.')\n",
    "\n",
    "ax1.legend(handles=p1+p2+p3+p4+p5, loc='best')\n",
    "\n",
    "plt.savefig('fig/hatom-norm.png', bbox_inches='tight', dpi=300)"
   ]
  },
  {
   "cell_type": "code",
   "execution_count": 24,
   "id": "41ee3cdb",
   "metadata": {},
   "outputs": [
    {
     "data": {
      "text/plain": [
       "(3.4277553030857644e-14, 0.00015650376696351034)"
      ]
     },
     "execution_count": 24,
     "metadata": {},
     "output_type": "execute_result"
    }
   ],
   "source": [
    "# Calculating RMSE\n",
    "size = len(X)\n",
    "rmse_exact = np.linalg.norm(y2 - y3) / np.sqrt(size)\n",
    "rmse_approx = np.linalg.norm(y - y3) / np.sqrt(size)\n",
    "rmse_exact, rmse_approx"
   ]
  }
 ],
 "metadata": {
  "kernelspec": {
   "display_name": "Python 3 (ipykernel)",
   "language": "python",
   "name": "python3"
  },
  "language_info": {
   "codemirror_mode": {
    "name": "ipython",
    "version": 3
   },
   "file_extension": ".py",
   "mimetype": "text/x-python",
   "name": "python",
   "nbconvert_exporter": "python",
   "pygments_lexer": "ipython3",
   "version": "3.10.7"
  }
 },
 "nbformat": 4,
 "nbformat_minor": 5
}
